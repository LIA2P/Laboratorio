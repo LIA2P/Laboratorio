{
  "cells": [
    {
      "cell_type": "markdown",
      "metadata": {
        "colab_type": "text",
        "id": "view-in-github"
      },
      "source": [
        "<a href=\"https://colab.research.google.com/github/Jorgvt/LibroDL/blob/main/Capitulo_6/RL%20CARTPOLE/CARTPOLE_DOUBLE_DDQN.ipynb\" target=\"_parent\"><img src=\"https://colab.research.google.com/assets/colab-badge.svg\" alt=\"Open In Colab\"/></a>"
      ]
    },
    {
      "cell_type": "markdown",
      "metadata": {
        "id": "9NRIIdUZ40aR"
      },
      "source": [
        "# APRENDIZAJE REFORZADO: CARTPOLE de gym con DQN "
      ]
    },
    {
      "cell_type": "markdown",
      "metadata": {
        "id": "IFD9O3tH5BkH"
      },
      "source": [
        "## 1. Cargamos librerías"
      ]
    },
    {
      "cell_type": "code",
      "execution_count": 1,
      "metadata": {
        "id": "pHsQObhb3-5X"
      },
      "outputs": [],
      "source": [
        "import random\n",
        "from collections import deque\n",
        "from IPython.display import clear_output\n",
        "\n",
        "import numpy as np\n",
        "import matplotlib.pyplot as plt\n",
        "import tensorflow as tf\n",
        "import tensorflow.keras.layers as layers\n",
        "from tensorflow.keras.optimizers import Adam\n",
        "\n",
        "import gym"
      ]
    },
    {
      "cell_type": "code",
      "execution_count": 2,
      "metadata": {
        "id": "Lyjrt4fjyZm0"
      },
      "outputs": [],
      "source": [
        "## Opciones generales de Matplotlib para ajustar las figuras\n",
        "plt.rcParams['figure.figsize'] = [9, 4]\n",
        "plt.rcParams['savefig.dpi'] = 300\n",
        "plt.rcParams['savefig.bbox'] = 'tight'\n",
        "plt.rcParams['image.cmap'] = 'gray'"
      ]
    },
    {
      "cell_type": "markdown",
      "metadata": {
        "id": "aysMD3r95oyV"
      },
      "source": [
        "## 2. Diseñamos el modelo DQN"
      ]
    },
    {
      "cell_type": "markdown",
      "metadata": {
        "id": "an4USYg55xHe"
      },
      "source": [
        "### 2.1 Creamos una clase llamada DQN"
      ]
    },
    {
      "cell_type": "code",
      "execution_count": 3,
      "metadata": {
        "id": "-ffQJ8k04zKm"
      },
      "outputs": [],
      "source": [
        "class DDQNAgent:\n",
        "    def __init__(self, state_size, action_size):\n",
        "        self.state_size = state_size\n",
        "        self.action_size = action_size\n",
        "        self.memory = deque(maxlen=2000)\n",
        "        self.gamma = 0.95    # ratio de descuento\n",
        "        self.epsilon = 1.0  # ratio de exploración\n",
        "        self.epsilon_min = 0.01\n",
        "        self.epsilon_decay = 0.995\n",
        "        self.learning_rate = 0.001\n",
        "        self.model = self._build_model()\n",
        "        self.target_model = self._build_model()\n",
        "        self.update_target_model()\n",
        "\n",
        "    def _build_model(self):\n",
        "        states = tf.keras.Input(shape = (self.state_size,))\n",
        "        x = layers.Dense(64, activation= 'sigmoid')(states)\n",
        "        y = layers.Dense(32, activation= 'sigmoid')(x)\n",
        "        q_values = layers.Dense(self.action_size, activation= 'linear')(y)\n",
        "        model = tf.keras.Model(inputs = states, outputs = q_values)\n",
        "        model.compile(loss='mse', optimizer=Adam(lr=self.learning_rate))\n",
        "        return model\n",
        "\n",
        "    def update_target_model(self):\n",
        "        self.target_model.set_weights(self.model.get_weights())\n",
        "\n",
        "    def action(self, state):\n",
        "        if np.random.rand() <= self.epsilon:\n",
        "          return random.randrange(self.action_size)\n",
        "        else:\n",
        "          act_values = self.model.predict(state)\n",
        "          return np.argmax(act_values[0])\n",
        "\n",
        "    def sample(self, state, action, reward, next_state, done):\n",
        "        self.memory.append((state, action, reward, next_state, done))\n",
        "        if self.epsilon > self.epsilon_min:\n",
        "            self.epsilon *= self.epsilon_decay\n",
        "\n",
        "    def experience_replay(self, batch_size):\n",
        "        minibatch = random.sample(self.memory, batch_size)\n",
        "        update_input = np.zeros((batch_size, self.state_size))\n",
        "        update_target = np.zeros((batch_size, self.state_size))\n",
        "        action, reward, done = [], [], []\n",
        "\n",
        "        for i in range(batch_size):\n",
        "            update_input[i] = minibatch[i][0]\n",
        "            action.append(minibatch[i][1])\n",
        "            reward.append(minibatch[i][2])\n",
        "            update_target[i] = minibatch[i][3]\n",
        "            done.append(minibatch[i][4])\n",
        "\n",
        "        target = self.model.predict(update_input)\n",
        "        target_next = self.model.predict(update_target)\n",
        "        target_val = self.target_model.predict(update_target)\n",
        "\n",
        "        for i in range(batch_size):\n",
        "            if done[i]:\n",
        "                target[i][action[i]] = reward[i]\n",
        "            else:\n",
        "                a = np.argmax(target_next[i])\n",
        "                target[i][action[i]] = reward[i]+self.gamma*(target_val[i][a])\n",
        "        self.model.fit(update_input, target, \n",
        "                       batch_size=batch_size,\n",
        "                       epochs=1, \n",
        "                       verbose=0)\n",
        "\n"
      ]
    },
    {
      "cell_type": "code",
      "execution_count": 4,
      "metadata": {
        "colab": {
          "base_uri": "https://localhost:8080/",
          "height": 297
        },
        "id": "SL0egQKx8AX4",
        "outputId": "e5fa7c96-b5a2-4ddd-b62c-a67b8b8ade2e"
      },
      "outputs": [
        {
          "data": {
            "image/png": "[encoded data removed]",
            "text/plain": [
              "<Figure size 648x288 with 1 Axes>"
            ]
          },
          "metadata": {
            "needs_background": "light"
          },
          "output_type": "display_data"
        },
        {
          "name": "stdout",
          "output_type": "stream",
          "text": [
            "episode: 299/300, score: 1437.0, e: 0.01\n"
          ]
        }
      ],
      "source": [
        "env = gym.make('CartPole-v1')\n",
        "state_size = env.observation_space.shape[0]\n",
        "action_size = env.action_space.n\n",
        "agent = DDQNAgent(state_size, action_size)\n",
        "done = False\n",
        "score = 0\n",
        "batch_size = 32\n",
        "EPISODES=300\n",
        "rewards = []\n",
        "scores = []\n",
        "for e in range(EPISODES):\n",
        "    state = env.reset()\n",
        "    state = np.reshape(state, [1, state_size])\n",
        "    for time in range(100):\n",
        "        action = agent.action(state)\n",
        "        next_state, reward, done, _ = env.step(action)\n",
        "        reward = reward if not done else -10\n",
        "        rewards.append(reward)\n",
        "        score += reward\n",
        "        scores.append(score)\n",
        "        next_state = np.reshape(next_state, [1, state_size])\n",
        "        agent.sample(state, action, reward, next_state, done)\n",
        "        state = next_state\n",
        "        if done:\n",
        "           agent.update_target_model()\n",
        "           clear_output(True)\n",
        "           fig = plt.figure()\n",
        "           ax = fig.add_subplot(111)\n",
        "           plt.plot(np.arange(len(scores)), scores, 'k--')\n",
        "           plt.ylabel('score')\n",
        "           plt.xlabel('Episode #')\n",
        "           plt.savefig(\"cartpole_ddqn.png\")\n",
        "           plt.show()\n",
        "           print(\"episode: {}/{}, score: {}, e: {:.2}\"\n",
        "                 .format(e, EPISODES, score, agent.epsilon))\n",
        "           break\n",
        "        if len(agent.memory) > batch_size:\n",
        "            agent.experience_replay(batch_size)\n",
        "        if e % 10 == 0:\n",
        "            agent.model.save_weights(\"cartpole_ddqn.h5\")"
      ]
    },
    {
      "cell_type": "code",
      "execution_count": 4,
      "metadata": {
        "id": "WioZ24fIx4Zm"
      },
      "outputs": [],
      "source": []
    }
  ],
  "metadata": {
    "colab": {
      "include_colab_link": true,
      "name": "CARTPOLE_DOUBLE_DDQN.ipynb",
      "provenance": []
    },
    "kernelspec": {
      "display_name": "Python 3",
      "name": "python3"
    },
    "language_info": {
      "name": "python",
      "version": "3.8.12"
    }
  },
  "nbformat": 4,
  "nbformat_minor": 0
}
